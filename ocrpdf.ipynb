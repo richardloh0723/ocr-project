{
 "cells": [
  {
   "cell_type": "code",
   "execution_count": 3,
   "id": "3562b4fb",
   "metadata": {
    "scrolled": true
   },
   "outputs": [
    {
     "name": "stdout",
     "output_type": "stream",
     "text": [
      "Defaulting to user installation because normal site-packages is not writeable\n",
      "Collecting pdfplumber\n",
      "  Using cached pdfplumber-0.5.28-py3-none-any.whl\n",
      "Requirement already satisfied: Pillow>=7.0.0 in /usr/lib/python3/dist-packages (from pdfplumber) (7.0.0)\n",
      "Collecting pdfminer.six==20200517\n",
      "  Using cached pdfminer.six-20200517-py3-none-any.whl (5.6 MB)\n",
      "Collecting Wand\n",
      "  Using cached Wand-0.6.6-py2.py3-none-any.whl (138 kB)\n",
      "Requirement already satisfied: chardet in /usr/lib/python3/dist-packages (from pdfminer.six==20200517->pdfplumber) (3.0.4)\n",
      "Requirement already satisfied: sortedcontainers in /usr/lib/python3/dist-packages (from pdfminer.six==20200517->pdfplumber) (2.1.0)\n",
      "Collecting pycryptodome\n",
      "  Using cached pycryptodome-3.10.1-cp35-abi3-manylinux2010_x86_64.whl (1.9 MB)\n",
      "Installing collected packages: pycryptodome, Wand, pdfminer.six, pdfplumber\n",
      "\u001b[33m  WARNING: The script pdfplumber is installed in '/home/rcloh/.local/bin' which is not on PATH.\n",
      "  Consider adding this directory to PATH or, if you prefer to suppress this warning, use --no-warn-script-location.\u001b[0m\n",
      "Successfully installed Wand-0.6.6 pdfminer.six-20200517 pdfplumber-0.5.28 pycryptodome-3.10.1\n"
     ]
    }
   ],
   "source": [
    "!pip install pdfplumber"
   ]
  },
  {
   "cell_type": "code",
   "execution_count": 4,
   "id": "25f756c9",
   "metadata": {},
   "outputs": [],
   "source": [
    "import os\n",
    "import ocrmypdf\n",
    "import requests\n",
    "import pdfplumber"
   ]
  },
  {
   "cell_type": "code",
   "execution_count": 5,
   "id": "81933a46",
   "metadata": {},
   "outputs": [],
   "source": [
    "def download_file(url):\n",
    "    local_filename = url.split('/')[-1]\n",
    "    \n",
    "    with requests.get(url) as r:\n",
    "        assert r.status_code == 200, f'error, status code is {r.status_code}'\n",
    "        with open(local_filename, 'wb') as f:\n",
    "            f.write(r.content)\n",
    "            \n",
    "        return local_filename"
   ]
  },
  {
   "cell_type": "code",
   "execution_count": 8,
   "id": "731e2338",
   "metadata": {
    "scrolled": true
   },
   "outputs": [
    {
     "name": "stdout",
     "output_type": "stream",
     "text": [
      "2UJgUpO\n"
     ]
    }
   ],
   "source": [
    "invoice = 'https://bit.ly/2UJgUpO'\n",
    "invoice_pdf = download_file(invoice)"
   ]
  },
  {
   "cell_type": "code",
   "execution_count": 14,
   "id": "1d748499",
   "metadata": {},
   "outputs": [
    {
     "name": "stdout",
     "output_type": "stream",
     "text": [
      "None\n"
     ]
    }
   ],
   "source": [
    "with pdfplumber.open(invoice_pdf) as pdf:\n",
    "    page = pdf.pages[0]\n",
    "    text = page.extract_text()\n",
    "    print(text)"
   ]
  },
  {
   "cell_type": "code",
   "execution_count": 11,
   "id": "569a8903",
   "metadata": {
    "scrolled": true
   },
   "outputs": [
    {
     "name": "stderr",
     "output_type": "stream",
     "text": [
      "   INFO - Using Tesseract OpenMP thread limit 2\n",
      "   INFO - Optimize ratio: 1.00 savings: 0.0%\n",
      "   INFO - Output file is a PDF/A-2B (as expected)\n"
     ]
    },
    {
     "data": {
      "text/plain": [
       "0"
      ]
     },
     "execution_count": 11,
     "metadata": {},
     "output_type": "execute_result"
    }
   ],
   "source": [
    "os.system(f'ocrmypdf {invoice_pdf} output.pdf')"
   ]
  },
  {
   "cell_type": "code",
   "execution_count": 12,
   "id": "3a58eef4",
   "metadata": {
    "scrolled": true
   },
   "outputs": [
    {
     "name": "stdout",
     "output_type": "stream",
     "text": [
      "Scan: 100%|████████████████████████████████████| 1/1 [00:00<00:00, 392.32page/s]\n",
      "   INFO - Using Tesseract OpenMP thread limit 2\n",
      "OCR: 100%|██████████████████████████████████| 1.0/1.0 [00:01<00:00,  1.67s/page]\n",
      "JPEGs: 0image [00:00, ?image/s]\n",
      "JBIG2: 0item [00:00, ?item/s]\n",
      "   INFO - Optimize ratio: 1.00 savings: 0.0%\n",
      "   INFO - Output file is a PDF/A-2B (as expected)\n"
     ]
    }
   ],
   "source": [
    "!ocrmypdf 2UJgUpO output.pdf"
   ]
  },
  {
   "cell_type": "code",
   "execution_count": 15,
   "id": "2e84b423",
   "metadata": {
    "scrolled": false
   },
   "outputs": [
    {
     "name": "stdout",
     "output_type": "stream",
     "text": [
      "Stanford  Plumbing  &  Heating  INVOICE \n",
      "123  Madison drive, Seattle,  WA,  7829Q \n",
      "wpolwu.m bingstanford.com \n",
      "990-120-4560  ? \n",
      "BILLTO  Invoice No:  *PINVO2081 \n",
      "Allen Smith  Invoice Date:  nawe \n",
      "87  Private st, Seattle, WA  Due Date:  12/01/18 \n",
      "allen@gmail.com \n",
      "990-302-1898 \n",
      "DESCRIPTION  QTY/ HR  UNIT PRICE  TOTAL \n",
      "Installed new kitchen sink (hours)  3  $0.00  150.00 \n",
      "Toto sink  1  $00.00  00.00 \n",
      "Worcester greenstar magnetic system fier  1  190.00  190.00 \n",
      "Nest smart thermostat  1  250.00  250.00 \n",
      "Worcester Greenstar 301  1  1800.00  1500.00 \n",
      "‘SUBTOTAL  2590.00 \n",
      "OFSCOUNT  ‘$0.00 \n",
      "SUBTOTAL LESS DISCOUNT  2540.00 \n",
      "‘Tank you for your business! \n",
      "‘TAX RATE  12.00% \n",
      "TOTAL TAX  304.80 \n",
      "Balance Due  $2,844.80 \n",
      "Terms & instructions \n",
      "Please pay within 20 days by PayPal (bob@stanfordplumbcionmg)  \n",
      "Installed products have S year warranty\n"
     ]
    }
   ],
   "source": [
    "with pdfplumber.open('output.pdf') as pdf:\n",
    "    page = pdf.pages[0]\n",
    "    text = page.extract_text()\n",
    "    print(text)"
   ]
  },
  {
   "cell_type": "code",
   "execution_count": 16,
   "id": "efded062",
   "metadata": {},
   "outputs": [],
   "source": [
    "lines = text.split('\\n')"
   ]
  },
  {
   "cell_type": "code",
   "execution_count": 17,
   "id": "10094cf8",
   "metadata": {
    "scrolled": false
   },
   "outputs": [
    {
     "data": {
      "text/plain": [
       "['Stanford  Plumbing  &  Heating  INVOICE ',\n",
       " '123  Madison drive, Seattle,  WA,  7829Q ',\n",
       " 'wpolwu.m bingstanford.com ',\n",
       " '990-120-4560  ? ',\n",
       " 'BILLTO  Invoice No:  *PINVO2081 ',\n",
       " 'Allen Smith  Invoice Date:  nawe ',\n",
       " '87  Private st, Seattle, WA  Due Date:  12/01/18 ',\n",
       " 'allen@gmail.com ',\n",
       " '990-302-1898 ',\n",
       " 'DESCRIPTION  QTY/ HR  UNIT PRICE  TOTAL ',\n",
       " 'Installed new kitchen sink (hours)  3  $0.00  150.00 ',\n",
       " 'Toto sink  1  $00.00  00.00 ',\n",
       " 'Worcester greenstar magnetic system fier  1  190.00  190.00 ',\n",
       " 'Nest smart thermostat  1  250.00  250.00 ',\n",
       " 'Worcester Greenstar 301  1  1800.00  1500.00 ',\n",
       " '‘SUBTOTAL  2590.00 ',\n",
       " 'OFSCOUNT  ‘$0.00 ',\n",
       " 'SUBTOTAL LESS DISCOUNT  2540.00 ',\n",
       " '‘Tank you for your business! ',\n",
       " '‘TAX RATE  12.00% ',\n",
       " 'TOTAL TAX  304.80 ',\n",
       " 'Balance Due  $2,844.80 ',\n",
       " 'Terms & instructions ',\n",
       " 'Please pay within 20 days by PayPal (bob@stanfordplumbcionmg)  ',\n",
       " 'Installed products have S year warranty']"
      ]
     },
     "execution_count": 17,
     "metadata": {},
     "output_type": "execute_result"
    }
   ],
   "source": [
    "lines"
   ]
  },
  {
   "cell_type": "code",
   "execution_count": 18,
   "id": "5555a782",
   "metadata": {},
   "outputs": [],
   "source": [
    "import re\n",
    "amt_re = re.compile(r'\\.\\d\\d')"
   ]
  },
  {
   "cell_type": "code",
   "execution_count": 20,
   "id": "17c81d87",
   "metadata": {
    "scrolled": true
   },
   "outputs": [],
   "source": [
    "subt = 0\n",
    "for line in lines:\n",
    "    if 'SUBTOTAL' in line:\n",
    "        break\n",
    "    if amt_re.search(line):\n",
    "        subt += float(line.split()[-1].replace(',','').replace('$',''))"
   ]
  },
  {
   "cell_type": "code",
   "execution_count": 21,
   "id": "b0ac898f",
   "metadata": {},
   "outputs": [
    {
     "data": {
      "text/plain": [
       "2090.0"
      ]
     },
     "execution_count": 21,
     "metadata": {},
     "output_type": "execute_result"
    }
   ],
   "source": [
    "subt"
   ]
  },
  {
   "cell_type": "code",
   "execution_count": 24,
   "id": "0111e5cc",
   "metadata": {},
   "outputs": [
    {
     "data": {
      "text/plain": [
       "['Stanford  Plumbing  &  Heating  INVOICE ',\n",
       " '123  Madison drive, Seattle,  WA,  7829Q ',\n",
       " 'wpolwu.m bingstanford.com ',\n",
       " '990-120-4560  ? ',\n",
       " 'BILLTO  Invoice No:  *PINVO2081 ',\n",
       " 'Allen Smith  Invoice Date:  nawe ',\n",
       " '87  Private st, Seattle, WA  Due Date:  12/01/18 ',\n",
       " 'allen@gmail.com ',\n",
       " '990-302-1898 ',\n",
       " 'DESCRIPTION  QTY/ HR  UNIT PRICE  TOTAL ',\n",
       " 'Installed new kitchen sink (hours)  3  $0.00  150.00 ',\n",
       " 'Toto sink  1  $00.00  00.00 ',\n",
       " 'Worcester greenstar magnetic system fier  1  190.00  190.00 ',\n",
       " 'Nest smart thermostat  1  250.00  250.00 ',\n",
       " 'Worcester Greenstar 301  1  1800.00  1500.00 ',\n",
       " '‘SUBTOTAL  2590.00 ',\n",
       " 'OFSCOUNT  ‘$0.00 ',\n",
       " 'SUBTOTAL LESS DISCOUNT  2540.00 ',\n",
       " '‘Tank you for your business! ',\n",
       " '‘TAX RATE  12.00% ',\n",
       " 'TOTAL TAX  304.80 ',\n",
       " 'Balance Due  $2,844.80 ',\n",
       " 'Terms & instructions ',\n",
       " 'Please pay within 20 days by PayPal (bob@stanfordplumbcionmg)  ',\n",
       " 'Installed products have S year warranty']"
      ]
     },
     "execution_count": 24,
     "metadata": {},
     "output_type": "execute_result"
    }
   ],
   "source": [
    "lines"
   ]
  }
 ],
 "metadata": {
  "kernelspec": {
   "display_name": "Python 3 (ipykernel)",
   "language": "python",
   "name": "python3"
  },
  "language_info": {
   "codemirror_mode": {
    "name": "ipython",
    "version": 3
   },
   "file_extension": ".py",
   "mimetype": "text/x-python",
   "name": "python",
   "nbconvert_exporter": "python",
   "pygments_lexer": "ipython3",
   "version": "3.8.10"
  }
 },
 "nbformat": 4,
 "nbformat_minor": 5
}
